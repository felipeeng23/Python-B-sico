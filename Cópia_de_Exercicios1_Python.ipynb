{
  "nbformat": 4,
  "nbformat_minor": 0,
  "metadata": {
    "colab": {
      "provenance": [],
      "include_colab_link": true
    },
    "kernelspec": {
      "name": "python3",
      "display_name": "Python 3"
    },
    "language_info": {
      "name": "python"
    }
  },
  "cells": [
    {
      "cell_type": "markdown",
      "metadata": {
        "id": "view-in-github",
        "colab_type": "text"
      },
      "source": [
        "<a href=\"https://colab.research.google.com/github/felipeeng23/Python-B-sico/blob/main/C%C3%B3pia_de_Exercicios1_Python.ipynb\" target=\"_parent\"><img src=\"https://colab.research.google.com/assets/colab-badge.svg\" alt=\"Open In Colab\"/></a>"
      ]
    },
    {
      "cell_type": "markdown",
      "source": [
        "1-Crie três variáveis representando seu nome, sua idade e sua altura. Exiba-as no console."
      ],
      "metadata": {
        "id": "cJjgj1FE1SM8"
      }
    },
    {
      "cell_type": "code",
      "execution_count": null,
      "metadata": {
        "id": "w_9kNzh41Jls",
        "colab": {
          "base_uri": "https://localhost:8080/"
        },
        "outputId": "75ad4586-0c5c-405c-ddd3-c3dee74974e1"
      },
      "outputs": [
        {
          "output_type": "stream",
          "name": "stdout",
          "text": [
            "Felipe Souza de Oliveira\n",
            "31\n",
            "1.82\n"
          ]
        }
      ],
      "source": [
        "nome=\"Felipe Souza de Oliveira\"\n",
        "idade=31\n",
        "altura=1.82\n",
        "print(nome)\n",
        "print(idade)\n",
        "print(altura)\n"
      ]
    },
    {
      "cell_type": "markdown",
      "source": [
        "2- Descubra o tipo de cada variável ciada no exercício 1."
      ],
      "metadata": {
        "id": "OEjPlhCU1Szk"
      }
    },
    {
      "cell_type": "code",
      "source": [
        "print(type(nome))\n",
        "print(type(idade))\n",
        "print(type(altura))\n"
      ],
      "metadata": {
        "id": "ipyhG4-k1TCi",
        "colab": {
          "base_uri": "https://localhost:8080/"
        },
        "outputId": "18e7753a-0745-42ce-b315-f20098a16751"
      },
      "execution_count": null,
      "outputs": [
        {
          "output_type": "stream",
          "name": "stdout",
          "text": [
            "<class 'str'>\n",
            "<class 'int'>\n",
            "<class 'float'>\n"
          ]
        }
      ]
    },
    {
      "cell_type": "markdown",
      "source": [
        "3- Converta a variável idade para float e a altura para int. Depois, exiba os novos valores."
      ],
      "metadata": {
        "id": "5v4vpw5l2M-e"
      }
    },
    {
      "cell_type": "code",
      "source": [
        "idade=float(idade)\n",
        "altura=int(altura)\n",
        "print(idade)\n",
        "print(altura)\n"
      ],
      "metadata": {
        "id": "3B6amjxY2YjT",
        "colab": {
          "base_uri": "https://localhost:8080/"
        },
        "outputId": "7ae97a6f-696d-46e5-b4bd-ac01c0f3c1d6"
      },
      "execution_count": null,
      "outputs": [
        {
          "output_type": "stream",
          "name": "stdout",
          "text": [
            "31.0\n",
            "1\n"
          ]
        }
      ]
    },
    {
      "cell_type": "markdown",
      "source": [
        " 4- Faça um programa que peça dois números ao usuário e mostre a soma, subtração, multiplicação e divisão entre eles."
      ],
      "metadata": {
        "id": "cFeFSIqS2R8r"
      }
    },
    {
      "cell_type": "code",
      "source": [
        "num1=int(input(\"Digite um numero: \"))\n",
        "num2=int(input(\"Digite o segundo numero: \"))\n",
        "soma=num1+num2\n",
        "subtracao=num1-num2\n",
        "multiplicacao=num1*num2\n",
        "divisao=num1/num2\n",
        "print(soma)\n",
        "print(subtracao)\n",
        "print(multiplicacao)\n",
        "print(divisao)"
      ],
      "metadata": {
        "id": "mSJ4kEK72Y9D",
        "colab": {
          "base_uri": "https://localhost:8080/"
        },
        "outputId": "2cf686a9-128f-41b4-df44-f1f3cdae12f4"
      },
      "execution_count": null,
      "outputs": [
        {
          "output_type": "stream",
          "name": "stdout",
          "text": [
            "Digite um numero: 5\n",
            "Digite o segundo numero: 10\n",
            "15\n",
            "-5\n",
            "50\n",
            "0.5\n"
          ]
        }
      ]
    },
    {
      "cell_type": "markdown",
      "source": [
        "5- Crie um programa que receba a idade de uma pessoa e verifique se ela é maior de idade (18 anos ou mais)."
      ],
      "metadata": {
        "id": "SeVD8UBz2Vdi"
      }
    },
    {
      "cell_type": "code",
      "source": [
        "idade1=int(input(\"Digite a idade: \"))\n",
        "if idade1>=18:\n",
        "  print(\"É maior de idade\")\n",
        "else:\n",
        "  print(\"Não é maior de idade\")"
      ],
      "metadata": {
        "id": "FVqNVjPN2ZPc",
        "colab": {
          "base_uri": "https://localhost:8080/"
        },
        "outputId": "be14673c-1f85-4717-f311-ce9ce3012723"
      },
      "execution_count": null,
      "outputs": [
        {
          "output_type": "stream",
          "name": "stdout",
          "text": [
            "Digite a idade: 26\n",
            "É maior de idade\n"
          ]
        }
      ]
    },
    {
      "cell_type": "markdown",
      "source": [
        " 6- Calculadora de IMC: Peça o peso e altura do usuário e calcule o Índice de Massa Corporal (IMC)."
      ],
      "metadata": {
        "id": "4RsWvNmI2Z78"
      }
    },
    {
      "cell_type": "code",
      "source": [
        "peso=float(input(\"Digite o peso: \"))\n",
        "altura=float(input(\"Digite a altura: \"))\n",
        "imc=peso/(altura*altura)\n",
        "print(f\"O IMC dessa pessoa é\",{imc})\n"
      ],
      "metadata": {
        "id": "V9EkYrFu2eQ6",
        "colab": {
          "base_uri": "https://localhost:8080/"
        },
        "outputId": "c01f0650-8f89-4ca4-c16a-87224462f1ae"
      },
      "execution_count": null,
      "outputs": [
        {
          "output_type": "stream",
          "name": "stdout",
          "text": [
            "Digite o peso: 90.4\n",
            "Digite a altura: 1.78\n",
            "O IMC dessa pessoa é {28.53175104153516}\n"
          ]
        }
      ]
    },
    {
      "cell_type": "markdown",
      "source": [
        " 7-Verificador de Número Par ou Ímpar:"
      ],
      "metadata": {
        "id": "Ye06Uwir2e0i"
      }
    },
    {
      "cell_type": "code",
      "source": [
        "verifica_num=int(input(\"Digite um número: \"))\n",
        "if verifica_num%2==0:\n",
        "  print(f\"Esse número\", {verifica_num}, \"é par\")\n",
        "else:\n",
        "  print(f\"Esse número\", {verifica_num}, \"é ímpar\")\n"
      ],
      "metadata": {
        "id": "KAwOgyqK2i9j",
        "colab": {
          "base_uri": "https://localhost:8080/"
        },
        "outputId": "576e8caa-a588-42ed-e097-d0c481c2ee17"
      },
      "execution_count": null,
      "outputs": [
        {
          "output_type": "stream",
          "name": "stdout",
          "text": [
            "Digite um número: 3\n",
            "Esse número {3} é ímpar\n"
          ]
        }
      ]
    },
    {
      "cell_type": "markdown",
      "source": [
        "8- Conversor de Temperatura de Celsius para Fahrenheint"
      ],
      "metadata": {
        "id": "Ffq8DpFJ2jgS"
      }
    },
    {
      "cell_type": "code",
      "source": [
        "temperatura_celsius=float(input(\"Digite a temperatura em Celsius: \"))\n",
        "temperatura_fahrenheit=(temperatura_celsius*1.8)+32\n",
        "print(f\"A temperatura em Celsius\",{temperatura_celsius}, f\"em Fahrenheit é: \",{temperatura_fahrenheit})\n"
      ],
      "metadata": {
        "id": "BEjHUkio20nC",
        "colab": {
          "base_uri": "https://localhost:8080/"
        },
        "outputId": "ee51e5e3-de08-42d5-a318-63020fe9510a"
      },
      "execution_count": null,
      "outputs": [
        {
          "output_type": "stream",
          "name": "stdout",
          "text": [
            "Digite a temperatura em Celsius: 25\n",
            "A temperatura em Celsius {25.0} em Fahrenheit é:  {77.0}\n"
          ]
        }
      ]
    },
    {
      "cell_type": "markdown",
      "source": [
        "9- Média de Notas: Peça três notas ao usuário e calcule a média."
      ],
      "metadata": {
        "id": "DBDOW7fU21Eb"
      }
    },
    {
      "cell_type": "code",
      "source": [
        "nota1=float(input(\"Digite a nota 1: \"))\n",
        "nota2=float(input(\"Digite a nota 2: \"))\n",
        "nota3=float(input(\"Digite a nota 3: \"))\n",
        "media=(nota1+nota2+nota3)/3\n",
        "print(\"A média desse aluno é:\",{media})\n"
      ],
      "metadata": {
        "id": "j-k-JWy13MwC",
        "colab": {
          "base_uri": "https://localhost:8080/"
        },
        "outputId": "eb362f71-e780-47b9-9348-5c8df4fc14bc"
      },
      "execution_count": null,
      "outputs": [
        {
          "output_type": "stream",
          "name": "stdout",
          "text": [
            "Digite a nota 1: 10\n",
            "Digite a nota 2: 8.1\n",
            "Digite a nota 3: 7\n",
            "A média desse aluno é: {8.366666666666667}\n"
          ]
        }
      ]
    },
    {
      "cell_type": "markdown",
      "source": [
        "10 - Calculo de Juros Compostos:\n",
        "\n",
        "\n",
        "```\n",
        "M=C(1+i)^t\n",
        "```\n",
        "Sendo:\n",
        "* C= Capital inicial\n",
        "* i= Taxa de juros\n",
        "* t= Tempo(meses)\n",
        "\n"
      ],
      "metadata": {
        "id": "rfldAQLt3NEc"
      }
    },
    {
      "cell_type": "code",
      "source": [
        "capital=float(input(\"Digite o valor do capital: \"))\n",
        "i=float(input(\"Digite a taxa de juros: \")) /100\n",
        "tempo=int(input(\"Digite o tempo em meses: \"))\n",
        "\n",
        "montante=capital * (1 + i) ** tempo\n",
        "\n",
        "print(f\"O montante após\",{tempo}, \"meses é: \",{montante})\n",
        "\n"
      ],
      "metadata": {
        "id": "XGzo0Y3A3zfQ",
        "colab": {
          "base_uri": "https://localhost:8080/"
        },
        "outputId": "e8bb2bce-5cb2-417c-a62d-18774caf4d27"
      },
      "execution_count": null,
      "outputs": [
        {
          "output_type": "stream",
          "name": "stdout",
          "text": [
            "Digite o valor do capital: 1000\n",
            "Digite a taxa de juros: 5\n",
            "Digite o tempo em meses: 12\n",
            "O montante após {12} meses é:  {1795.8563260221301}\n"
          ]
        }
      ]
    },
    {
      "cell_type": "markdown",
      "source": [
        "11- Comparação de Dois Números\n",
        "Peça dois números ao usuário e exiba se eles são iguais, diferentes, maior, menor, etc."
      ],
      "metadata": {
        "id": "-OEOClEi5bYj"
      }
    },
    {
      "cell_type": "code",
      "source": [
        "n1=int(input(\"Digite o primeiro número: \"))\n",
        "n2=int(input(\"Digite o segundo número:\"))\n",
        "if n1>n2 and n1!=n2:\n",
        "  print(f\"O primeiro número é maior que o segundo e são diferentes\")\n",
        "elif n2>n1 and n2!=n1:\n",
        "  print(f\"O segundo número é maior que o primeiro e são diferentes\")\n",
        "else:\n",
        "  print(f\"Os números são iguais\")\n"
      ],
      "metadata": {
        "id": "3H_7sd_k5dsC",
        "colab": {
          "base_uri": "https://localhost:8080/"
        },
        "outputId": "23babbc2-def2-45bb-ecdd-b45d36b01263"
      },
      "execution_count": null,
      "outputs": [
        {
          "output_type": "stream",
          "name": "stdout",
          "text": [
            "Digite o primeiro número: 8\n",
            "Digite o segundo número:8\n",
            "Os números são iguais\n"
          ]
        }
      ]
    },
    {
      "cell_type": "markdown",
      "source": [
        "12- Conversor de Moeda\n",
        "Peça um valor em reais e converta para dólares (suponha uma taxa de câmbio de R$ 5,00 por USD)."
      ],
      "metadata": {
        "id": "BRRTh3hJ5eJy"
      }
    },
    {
      "cell_type": "code",
      "source": [
        "reais=float(input(\"Digite o valor em reais: \"))\n",
        "dolar=reais/5\n",
        "print(f\"o valor em dólar é: \", {dolar})\n"
      ],
      "metadata": {
        "id": "QZTmjuxL5r8a",
        "colab": {
          "base_uri": "https://localhost:8080/"
        },
        "outputId": "46029bd1-82de-49dc-83e1-e7ece066e136"
      },
      "execution_count": null,
      "outputs": [
        {
          "output_type": "stream",
          "name": "stdout",
          "text": [
            "Digite o valor em reais: 15\n",
            "o valor em dólar é:  {3.0}\n"
          ]
        }
      ]
    }
  ]
}